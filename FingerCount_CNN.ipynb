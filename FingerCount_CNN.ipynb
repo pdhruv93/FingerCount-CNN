{
  "nbformat": 4,
  "nbformat_minor": 0,
  "metadata": {
    "colab": {
      "name": "FingerCount-CNN.ipynb",
      "provenance": [],
      "collapsed_sections": [],
      "include_colab_link": true
    },
    "kernelspec": {
      "name": "python3",
      "display_name": "Python 3"
    },
    "accelerator": "GPU"
  },
  "cells": [
    {
      "cell_type": "markdown",
      "metadata": {
        "id": "view-in-github",
        "colab_type": "text"
      },
      "source": [
        "<a href=\"https://colab.research.google.com/github/pdhruv93/FingerCount-CNN/blob/master/FingerCount_CNN.ipynb\" target=\"_parent\"><img src=\"https://colab.research.google.com/assets/colab-badge.svg\" alt=\"Open In Colab\"/></a>"
      ]
    },
    {
      "cell_type": "code",
      "metadata": {
        "id": "uAaJNf7zrq7q",
        "colab_type": "code",
        "outputId": "346c23fc-1571-4745-d42f-0157cf2fd960",
        "colab": {
          "base_uri": "https://localhost:8080/",
          "height": 119
        }
      },
      "source": [
        "!git clone https://github.com/pdhruv93/FingerCount-CNN.git"
      ],
      "execution_count": 0,
      "outputs": [
        {
          "output_type": "stream",
          "text": [
            "Cloning into 'FingerCount-CNN'...\n",
            "remote: Enumerating objects: 12733, done.\u001b[K\n",
            "remote: Counting objects: 100% (12733/12733), done.\u001b[K\n",
            "remote: Compressing objects: 100% (12731/12731), done.\u001b[K\n",
            "remote: Total 12733 (delta 0), reused 12730 (delta 0), pack-reused 0\u001b[K\n",
            "Receiving objects: 100% (12733/12733), 32.38 MiB | 9.28 MiB/s, done.\n"
          ],
          "name": "stdout"
        }
      ]
    },
    {
      "cell_type": "code",
      "metadata": {
        "id": "hghjV5xW1tN-",
        "colab_type": "code",
        "colab": {}
      },
      "source": [
        "from keras.preprocessing.image import ImageDataGenerator\n",
        "from keras.layers import Conv2D, MaxPooling2D, Dropout, Dense, Flatten\n",
        "from keras.callbacks import EarlyStopping, ModelCheckpoint\n",
        "from keras.models import Sequential, load_model\n",
        "import tensorflow as tf\n",
        "import numpy as np\n",
        "import matplotlib.pyplot as plt\n",
        "import os"
      ],
      "execution_count": 0,
      "outputs": []
    },
    {
      "cell_type": "code",
      "metadata": {
        "id": "65ES5Rr711l6",
        "colab_type": "code",
        "colab": {}
      },
      "source": [
        "#Data Augmentation\n",
        "#rescale--Normalisig the image. Defaults to None. If None or 0, no rescaling is applied, otherwise we multiply the data by the value provided (after applying all other transformations).\n",
        "#horizontal_flip--Randomly flip inputs horizontally. for Mirroring. Mirroring will help to ensure that the data are not biased to a particular handedness.\n",
        "train_datagen = ImageDataGenerator(rescale=1/255,rotation_range=10.,width_shift_range=0.1,height_shift_range=0.1,zoom_range=0.2,horizontal_flip=True)\n",
        "test_datagen  = ImageDataGenerator( rescale=1/255 )"
      ],
      "execution_count": 0,
      "outputs": []
    },
    {
      "cell_type": "code",
      "metadata": {
        "id": "AzUVlvlnUuyX",
        "colab_type": "code",
        "outputId": "5ce879a8-8a92-4530-d2c5-ba97536221ad",
        "colab": {
          "base_uri": "https://localhost:8080/",
          "height": 51
        }
      },
      "source": [
        "nbatch = 128\n",
        "#ImageDataGenerator--Instead of loading all images into memory, it will load just enough images into memory\n",
        "#Goto this link for better understanding of how to load images from folders:\n",
        "#https://machinelearningmastery.com/how-to-load-large-datasets-from-directories-for-deep-learning-with-keras/\n",
        "train_iterator = train_datagen.flow_from_directory('FingerCount-CNN/images/train/',target_size=(300, 300),color_mode='grayscale',batch_size=nbatch,class_mode='categorical')\n",
        "test_iterator = test_datagen.flow_from_directory('FingerCount-CNN/images/test/',target_size=(300, 300),color_mode='grayscale',batch_size=nbatch,class_mode='categorical')\n"
      ],
      "execution_count": 0,
      "outputs": [
        {
          "output_type": "stream",
          "text": [
            "Found 9081 images belonging to 6 classes.\n",
            "Found 3632 images belonging to 6 classes.\n"
          ],
          "name": "stdout"
        }
      ]
    },
    {
      "cell_type": "code",
      "metadata": {
        "id": "i8VZVu-zW25k",
        "colab_type": "code",
        "outputId": "d65d4171-369a-4c71-c1cb-38157ca51723",
        "colab": {
          "base_uri": "https://localhost:8080/",
          "height": 802
        }
      },
      "source": [
        "model = Sequential()\n",
        "model.add(Conv2D(32, (3,3), activation='relu', input_shape=(300,300,1)))\n",
        "model.add(MaxPooling2D((2,2)))\n",
        "model.add(Conv2D(64, (3,3), activation='relu'))\n",
        "model.add(MaxPooling2D((2,2)))\n",
        "model.add(Conv2D(128, (3,3), activation='relu'))\n",
        "model.add(MaxPooling2D((2,2)))\n",
        "model.add(Conv2D(128, (3,3), activation='relu'))\n",
        "model.add(MaxPooling2D((2,2)))\n",
        "model.add(Flatten())\n",
        "model.add(Dense(512, activation='relu'))\n",
        "model.add(Dropout(0.3))\n",
        "model.add(Dense(6, activation='softmax'))\n",
        "\n",
        "model.summary()"
      ],
      "execution_count": 0,
      "outputs": [
        {
          "output_type": "stream",
          "text": [
            "WARNING:tensorflow:From /usr/local/lib/python3.6/dist-packages/keras/backend/tensorflow_backend.py:66: The name tf.get_default_graph is deprecated. Please use tf.compat.v1.get_default_graph instead.\n",
            "\n",
            "WARNING:tensorflow:From /usr/local/lib/python3.6/dist-packages/keras/backend/tensorflow_backend.py:541: The name tf.placeholder is deprecated. Please use tf.compat.v1.placeholder instead.\n",
            "\n",
            "WARNING:tensorflow:From /usr/local/lib/python3.6/dist-packages/keras/backend/tensorflow_backend.py:4432: The name tf.random_uniform is deprecated. Please use tf.random.uniform instead.\n",
            "\n",
            "WARNING:tensorflow:From /usr/local/lib/python3.6/dist-packages/keras/backend/tensorflow_backend.py:4267: The name tf.nn.max_pool is deprecated. Please use tf.nn.max_pool2d instead.\n",
            "\n",
            "WARNING:tensorflow:From /usr/local/lib/python3.6/dist-packages/keras/backend/tensorflow_backend.py:148: The name tf.placeholder_with_default is deprecated. Please use tf.compat.v1.placeholder_with_default instead.\n",
            "\n",
            "WARNING:tensorflow:From /usr/local/lib/python3.6/dist-packages/keras/backend/tensorflow_backend.py:3733: calling dropout (from tensorflow.python.ops.nn_ops) with keep_prob is deprecated and will be removed in a future version.\n",
            "Instructions for updating:\n",
            "Please use `rate` instead of `keep_prob`. Rate should be set to `rate = 1 - keep_prob`.\n",
            "Model: \"sequential_1\"\n",
            "_________________________________________________________________\n",
            "Layer (type)                 Output Shape              Param #   \n",
            "=================================================================\n",
            "conv2d_1 (Conv2D)            (None, 298, 298, 32)      320       \n",
            "_________________________________________________________________\n",
            "max_pooling2d_1 (MaxPooling2 (None, 149, 149, 32)      0         \n",
            "_________________________________________________________________\n",
            "conv2d_2 (Conv2D)            (None, 147, 147, 64)      18496     \n",
            "_________________________________________________________________\n",
            "max_pooling2d_2 (MaxPooling2 (None, 73, 73, 64)        0         \n",
            "_________________________________________________________________\n",
            "conv2d_3 (Conv2D)            (None, 71, 71, 128)       73856     \n",
            "_________________________________________________________________\n",
            "max_pooling2d_3 (MaxPooling2 (None, 35, 35, 128)       0         \n",
            "_________________________________________________________________\n",
            "conv2d_4 (Conv2D)            (None, 33, 33, 128)       147584    \n",
            "_________________________________________________________________\n",
            "max_pooling2d_4 (MaxPooling2 (None, 16, 16, 128)       0         \n",
            "_________________________________________________________________\n",
            "flatten_1 (Flatten)          (None, 32768)             0         \n",
            "_________________________________________________________________\n",
            "dense_1 (Dense)              (None, 512)               16777728  \n",
            "_________________________________________________________________\n",
            "dropout_1 (Dropout)          (None, 512)               0         \n",
            "_________________________________________________________________\n",
            "dense_2 (Dense)              (None, 6)                 3078      \n",
            "=================================================================\n",
            "Total params: 17,021,062\n",
            "Trainable params: 17,021,062\n",
            "Non-trainable params: 0\n",
            "_________________________________________________________________\n"
          ],
          "name": "stdout"
        }
      ]
    },
    {
      "cell_type": "code",
      "metadata": {
        "id": "Vaj8j-m0XwvW",
        "colab_type": "code",
        "outputId": "e539202a-7d05-424e-a34f-c2f812b06e2f",
        "colab": {
          "base_uri": "https://localhost:8080/",
          "height": 105
        }
      },
      "source": [
        "model.compile(optimizer='adadelta', loss='categorical_crossentropy', metrics=['acc'])"
      ],
      "execution_count": 0,
      "outputs": [
        {
          "output_type": "stream",
          "text": [
            "WARNING:tensorflow:From /usr/local/lib/python3.6/dist-packages/keras/optimizers.py:793: The name tf.train.Optimizer is deprecated. Please use tf.compat.v1.train.Optimizer instead.\n",
            "\n",
            "WARNING:tensorflow:From /usr/local/lib/python3.6/dist-packages/keras/backend/tensorflow_backend.py:3576: The name tf.log is deprecated. Please use tf.math.log instead.\n",
            "\n"
          ],
          "name": "stdout"
        }
      ]
    },
    {
      "cell_type": "code",
      "metadata": {
        "id": "go229ouZXzb3",
        "colab_type": "code",
        "colab": {}
      },
      "source": [
        "callbacks_list = [\n",
        "    EarlyStopping(monitor='val_loss', patience=10),\n",
        "    ModelCheckpoint(filepath='FingerCountCheckpoint.h5', monitor='val_loss', save_best_only=True),\n",
        "]\n",
        "\n",
        "#EarlyStopping--Stop training when a monitored quantity has stopped improving.\n",
        "#monitor: quantity to be monitored.\n",
        "#patience: number of epochs that produced the monitored quantity with no improvement after which training will be stopped."
      ],
      "execution_count": 0,
      "outputs": []
    },
    {
      "cell_type": "code",
      "metadata": {
        "id": "rmErHABjb57U",
        "colab_type": "code",
        "outputId": "2652a4d6-b1ef-4dca-800b-09afef2e490b",
        "colab": {
          "base_uri": "https://localhost:8080/",
          "height": 1000
        }
      },
      "source": [
        " history = model.fit_generator(train_iterator,steps_per_epoch=71,epochs=40,validation_data=test_iterator,validation_steps=28,callbacks=callbacks_list)"
      ],
      "execution_count": 0,
      "outputs": [
        {
          "output_type": "stream",
          "text": [
            "WARNING:tensorflow:From /usr/local/lib/python3.6/dist-packages/tensorflow/python/ops/math_grad.py:1250: add_dispatch_support.<locals>.wrapper (from tensorflow.python.ops.array_ops) is deprecated and will be removed in a future version.\n",
            "Instructions for updating:\n",
            "Use tf.where in 2.0, which has the same broadcast rule as np.where\n",
            "Epoch 1/40\n",
            "71/71 [==============================] - 91s 1s/step - loss: 1.6501 - acc: 0.2938 - val_loss: 1.1084 - val_acc: 0.5223\n",
            "Epoch 2/40\n",
            "71/71 [==============================] - 83s 1s/step - loss: 1.0481 - acc: 0.5729 - val_loss: 0.6283 - val_acc: 0.7123\n",
            "Epoch 3/40\n",
            "71/71 [==============================] - 83s 1s/step - loss: 0.5984 - acc: 0.7679 - val_loss: 0.1703 - val_acc: 0.9372\n",
            "Epoch 4/40\n",
            "71/71 [==============================] - 83s 1s/step - loss: 0.3771 - acc: 0.8560 - val_loss: 0.2358 - val_acc: 0.8975\n",
            "Epoch 5/40\n",
            "71/71 [==============================] - 83s 1s/step - loss: 0.2656 - acc: 0.9010 - val_loss: 0.0814 - val_acc: 0.9683\n",
            "Epoch 6/40\n",
            "71/71 [==============================] - 83s 1s/step - loss: 0.1738 - acc: 0.9393 - val_loss: 0.0290 - val_acc: 0.9926\n",
            "Epoch 7/40\n",
            "71/71 [==============================] - 83s 1s/step - loss: 0.1388 - acc: 0.9508 - val_loss: 0.0511 - val_acc: 0.9914\n",
            "Epoch 8/40\n",
            "71/71 [==============================] - 84s 1s/step - loss: 0.1129 - acc: 0.9602 - val_loss: 0.0134 - val_acc: 0.9954\n",
            "Epoch 9/40\n",
            "71/71 [==============================] - 83s 1s/step - loss: 0.0911 - acc: 0.9713 - val_loss: 0.0061 - val_acc: 0.9974\n",
            "Epoch 10/40\n",
            "71/71 [==============================] - 83s 1s/step - loss: 0.0814 - acc: 0.9723 - val_loss: 0.0058 - val_acc: 0.9983\n",
            "Epoch 11/40\n",
            "71/71 [==============================] - 83s 1s/step - loss: 0.0824 - acc: 0.9741 - val_loss: 0.0118 - val_acc: 0.9957\n",
            "Epoch 12/40\n",
            "71/71 [==============================] - 82s 1s/step - loss: 0.0571 - acc: 0.9838 - val_loss: 0.0128 - val_acc: 0.9963\n",
            "Epoch 13/40\n",
            "71/71 [==============================] - 82s 1s/step - loss: 0.0557 - acc: 0.9817 - val_loss: 0.0102 - val_acc: 0.9963\n",
            "Epoch 14/40\n",
            "71/71 [==============================] - 81s 1s/step - loss: 0.0500 - acc: 0.9819 - val_loss: 0.0123 - val_acc: 0.9971\n",
            "Epoch 15/40\n",
            "71/71 [==============================] - 81s 1s/step - loss: 0.0533 - acc: 0.9841 - val_loss: 0.0030 - val_acc: 0.9994\n",
            "Epoch 16/40\n",
            "71/71 [==============================] - 80s 1s/step - loss: 0.0442 - acc: 0.9862 - val_loss: 0.0041 - val_acc: 0.9983\n",
            "Epoch 17/40\n",
            "71/71 [==============================] - 82s 1s/step - loss: 0.0461 - acc: 0.9843 - val_loss: 0.0022 - val_acc: 0.9991\n",
            "Epoch 18/40\n",
            "71/71 [==============================] - 82s 1s/step - loss: 0.0414 - acc: 0.9852 - val_loss: 0.0067 - val_acc: 0.9980\n",
            "Epoch 19/40\n",
            "71/71 [==============================] - 83s 1s/step - loss: 0.0409 - acc: 0.9887 - val_loss: 0.0076 - val_acc: 0.9971\n",
            "Epoch 20/40\n",
            "71/71 [==============================] - 81s 1s/step - loss: 0.0388 - acc: 0.9871 - val_loss: 0.0061 - val_acc: 0.9974\n",
            "Epoch 21/40\n",
            "71/71 [==============================] - 81s 1s/step - loss: 0.0280 - acc: 0.9914 - val_loss: 0.0023 - val_acc: 0.9991\n",
            "Epoch 22/40\n",
            "71/71 [==============================] - 81s 1s/step - loss: 0.0356 - acc: 0.9898 - val_loss: 0.0065 - val_acc: 0.9977\n",
            "Epoch 23/40\n",
            "71/71 [==============================] - 80s 1s/step - loss: 0.0315 - acc: 0.9911 - val_loss: 0.0025 - val_acc: 0.9994\n",
            "Epoch 24/40\n",
            "71/71 [==============================] - 80s 1s/step - loss: 0.0277 - acc: 0.9916 - val_loss: 0.0014 - val_acc: 0.9994\n",
            "Epoch 25/40\n",
            "71/71 [==============================] - 81s 1s/step - loss: 0.0211 - acc: 0.9944 - val_loss: 0.0016 - val_acc: 0.9991\n",
            "Epoch 26/40\n",
            "71/71 [==============================] - 80s 1s/step - loss: 0.0234 - acc: 0.9928 - val_loss: 0.0131 - val_acc: 0.9969\n",
            "Epoch 27/40\n",
            "71/71 [==============================] - 79s 1s/step - loss: 0.0209 - acc: 0.9934 - val_loss: 0.0062 - val_acc: 0.9980\n",
            "Epoch 28/40\n",
            "71/71 [==============================] - 80s 1s/step - loss: 0.0261 - acc: 0.9923 - val_loss: 0.0086 - val_acc: 0.9983\n",
            "Epoch 29/40\n",
            "71/71 [==============================] - 80s 1s/step - loss: 0.0182 - acc: 0.9943 - val_loss: 0.0059 - val_acc: 0.9966\n",
            "Epoch 30/40\n",
            "71/71 [==============================] - 79s 1s/step - loss: 0.0225 - acc: 0.9924 - val_loss: 0.0029 - val_acc: 0.9989\n",
            "Epoch 31/40\n",
            "71/71 [==============================] - 78s 1s/step - loss: 0.0245 - acc: 0.9941 - val_loss: 6.2017e-04 - val_acc: 1.0000\n",
            "Epoch 32/40\n",
            "71/71 [==============================] - 78s 1s/step - loss: 0.0186 - acc: 0.9945 - val_loss: 0.0024 - val_acc: 0.9986\n",
            "Epoch 33/40\n",
            "71/71 [==============================] - 78s 1s/step - loss: 0.0226 - acc: 0.9931 - val_loss: 0.0029 - val_acc: 0.9989\n",
            "Epoch 34/40\n",
            "71/71 [==============================] - 78s 1s/step - loss: 0.0189 - acc: 0.9944 - val_loss: 0.0051 - val_acc: 0.9980\n",
            "Epoch 35/40\n",
            "71/71 [==============================] - 79s 1s/step - loss: 0.0222 - acc: 0.9938 - val_loss: 0.0023 - val_acc: 0.9994\n",
            "Epoch 36/40\n",
            "71/71 [==============================] - 79s 1s/step - loss: 0.0189 - acc: 0.9948 - val_loss: 2.8779e-04 - val_acc: 1.0000\n",
            "Epoch 37/40\n",
            "71/71 [==============================] - 79s 1s/step - loss: 0.0184 - acc: 0.9945 - val_loss: 0.0024 - val_acc: 0.9991\n",
            "Epoch 38/40\n",
            "71/71 [==============================] - 80s 1s/step - loss: 0.0182 - acc: 0.9945 - val_loss: 5.5173e-04 - val_acc: 0.9997\n",
            "Epoch 39/40\n",
            "71/71 [==============================] - 81s 1s/step - loss: 0.0186 - acc: 0.9932 - val_loss: 0.0024 - val_acc: 0.9989\n",
            "Epoch 40/40\n",
            "71/71 [==============================] - 82s 1s/step - loss: 0.0152 - acc: 0.9950 - val_loss: 4.6558e-04 - val_acc: 1.0000\n"
          ],
          "name": "stdout"
        }
      ]
    },
    {
      "cell_type": "code",
      "metadata": {
        "id": "VwKgT7qRcK-T",
        "colab_type": "code",
        "outputId": "de532276-d21e-476e-e045-30e41ba5ead7",
        "colab": {
          "base_uri": "https://localhost:8080/",
          "height": 429
        }
      },
      "source": [
        "#plotting graphs\n",
        "plt.figure(figsize=(16,6))\n",
        "plt.subplot(1,2,1)\n",
        "nepochs=len(history.history['loss'])\n",
        "plt.plot(range(nepochs), history.history['loss'],     'r-', label='train')\n",
        "plt.plot(range(nepochs), history.history['val_loss'], 'b-', label='test')\n",
        "plt.legend(prop={'size': 20})\n",
        "plt.ylabel('loss')\n",
        "plt.xlabel('# of epochs')\n",
        "plt.subplot(1,2,2)\n",
        "plt.plot(range(nepochs), history.history['acc'],     'r-', label='train')\n",
        "plt.plot(range(nepochs), history.history['val_acc'], 'b-', label='test')\n",
        "plt.legend(prop={'size': 20})\n",
        "plt.ylabel('accuracy')\n",
        "plt.xlabel('# of epochs')"
      ],
      "execution_count": 0,
      "outputs": [
        {
          "output_type": "execute_result",
          "data": {
            "text/plain": [
              "Text(0.5, 0, '# of epochs')"
            ]
          },
          "metadata": {
            "tags": []
          },
          "execution_count": 15
        },
        {
          "output_type": "display_data",
          "data": {
            "image/png": "[encoded data removed]",
            "text/plain": [
              "<Figure size 1152x432 with 2 Axes>"
            ]
          },
          "metadata": {
            "tags": []
          }
        }
      ]
    }
  ]
}